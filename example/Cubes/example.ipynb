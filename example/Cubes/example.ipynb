{
 "cells": [
  {
   "cell_type": "markdown",
   "metadata": {},
   "source": [
    "# How to use `py_cube`\n",
    "\n",
    "This is the simple workflow described in `README.md`. As additional clarification steps, it includes a couple of additional `print` messages as well as serialization after each step for better clarity. Observe, that between most steps, the number of triples in the graph change (last line of `print` - I'll update that part in the upcomming weeks)"
   ]
  },
  {
   "cell_type": "code",
   "execution_count": null,
   "metadata": {},
   "outputs": [],
   "source": [
    "import pandas as pd\n",
    "import yaml\n",
    "\n",
    "from pylindas.pycube import Cube\n",
    "from pylindas.lindas.upload import upload_ttl\n",
    "\n",
    "mock_df = pd.read_csv(\"example/mock/data.csv\")\n",
    "\n",
    "with open(\"example/mock/description.yml\", encoding=\"utf-8\") as file:\n",
    "    cube_yaml = yaml.safe_load(file)"
   ]
  },
  {
   "cell_type": "markdown",
   "metadata": {},
   "source": [
    "## 1. Initialization"
   ]
  },
  {
   "cell_type": "code",
   "execution_count": 2,
   "metadata": {},
   "outputs": [
    {
     "name": "stdout",
     "output_type": "stream",
     "text": [
      "Cube Object <https://mock.ld.admin.ch/cube/mock-example/1> with name 'Mock Cube'.\n",
      "\n",
      "   Jahr Station       Wert  Standardfehler     Status\n",
      "0  2000    Bern  23.000000        5.000000  definitiv\n",
      "1  2000  Zürich  23.555744        7.517864  definitiv\n",
      "2  2001    Bern  21.536091        6.466525  definitiv\n",
      "3  2001  Zürich  21.659924        6.030296  definitiv\n",
      "4  2002    Bern  22.575145        1.493504  definitiv\n",
      "Number of triples in Graph: 0\n"
     ]
    }
   ],
   "source": [
    "cube = Cube(dataframe=mock_df, cube_yaml=cube_yaml, environment=\"TEST\", local=True)\n",
    "print(cube)"
   ]
  },
  {
   "cell_type": "markdown",
   "metadata": {},
   "source": [
    "## 2. Mapping"
   ]
  },
  {
   "cell_type": "code",
   "execution_count": 3,
   "metadata": {},
   "outputs": [
    {
     "name": "stdout",
     "output_type": "stream",
     "text": [
      "Cube Object <https://mock.ld.admin.ch/cube/mock-example/1> with name 'Mock Cube'.\n",
      "\n",
      "                                                                                  Jahr  \\\n",
      "obs-uri                                                                                  \n",
      "https://mock.ld.admin.ch/cube/mock-example/1/ob...  https://ld.admin.ch/time/year/2000   \n",
      "https://mock.ld.admin.ch/cube/mock-example/1/ob...  https://ld.admin.ch/time/year/2000   \n",
      "https://mock.ld.admin.ch/cube/mock-example/1/ob...  https://ld.admin.ch/time/year/2001   \n",
      "https://mock.ld.admin.ch/cube/mock-example/1/ob...  https://ld.admin.ch/time/year/2001   \n",
      "https://mock.ld.admin.ch/cube/mock-example/1/ob...  https://ld.admin.ch/time/year/2002   \n",
      "\n",
      "                                                                                Station  \\\n",
      "obs-uri                                                                                   \n",
      "https://mock.ld.admin.ch/cube/mock-example/1/ob...  https://mock.ld.admin.ch/station/01   \n",
      "https://mock.ld.admin.ch/cube/mock-example/1/ob...  https://mock.ld.admin.ch/station/02   \n",
      "https://mock.ld.admin.ch/cube/mock-example/1/ob...  https://mock.ld.admin.ch/station/01   \n",
      "https://mock.ld.admin.ch/cube/mock-example/1/ob...  https://mock.ld.admin.ch/station/02   \n",
      "https://mock.ld.admin.ch/cube/mock-example/1/ob...  https://mock.ld.admin.ch/station/01   \n",
      "\n",
      "                                                         Wert  Standardfehler  \\\n",
      "obs-uri                                                                         \n",
      "https://mock.ld.admin.ch/cube/mock-example/1/ob...  23.000000        5.000000   \n",
      "https://mock.ld.admin.ch/cube/mock-example/1/ob...  23.555744        7.517864   \n",
      "https://mock.ld.admin.ch/cube/mock-example/1/ob...  21.536091        6.466525   \n",
      "https://mock.ld.admin.ch/cube/mock-example/1/ob...  21.659924        6.030296   \n",
      "https://mock.ld.admin.ch/cube/mock-example/1/ob...  22.575145        1.493504   \n",
      "\n",
      "                                                       Status  \n",
      "obs-uri                                                        \n",
      "https://mock.ld.admin.ch/cube/mock-example/1/ob...  definitiv  \n",
      "https://mock.ld.admin.ch/cube/mock-example/1/ob...  definitiv  \n",
      "https://mock.ld.admin.ch/cube/mock-example/1/ob...  definitiv  \n",
      "https://mock.ld.admin.ch/cube/mock-example/1/ob...  definitiv  \n",
      "https://mock.ld.admin.ch/cube/mock-example/1/ob...  definitiv  \n",
      "Number of triples in Graph: 0\n"
     ]
    }
   ],
   "source": [
    "cube.prepare_data()\n",
    "print(cube)"
   ]
  },
  {
   "cell_type": "markdown",
   "metadata": {},
   "source": [
    "You'll see, the mappings as defined in the yml file are applied"
   ]
  },
  {
   "cell_type": "markdown",
   "metadata": {},
   "source": [
    "## 3. Write `cube:Cube`"
   ]
  },
  {
   "cell_type": "code",
   "execution_count": 4,
   "metadata": {},
   "outputs": [
    {
     "name": "stdout",
     "output_type": "stream",
     "text": [
      "Cube Object <https://mock.ld.admin.ch/cube/mock-example/1> with name 'Mock Cube'.\n",
      "\n",
      "                                                                                  Jahr  \\\n",
      "obs-uri                                                                                  \n",
      "https://mock.ld.admin.ch/cube/mock-example/1/ob...  https://ld.admin.ch/time/year/2000   \n",
      "https://mock.ld.admin.ch/cube/mock-example/1/ob...  https://ld.admin.ch/time/year/2000   \n",
      "https://mock.ld.admin.ch/cube/mock-example/1/ob...  https://ld.admin.ch/time/year/2001   \n",
      "https://mock.ld.admin.ch/cube/mock-example/1/ob...  https://ld.admin.ch/time/year/2001   \n",
      "https://mock.ld.admin.ch/cube/mock-example/1/ob...  https://ld.admin.ch/time/year/2002   \n",
      "\n",
      "                                                                                Station  \\\n",
      "obs-uri                                                                                   \n",
      "https://mock.ld.admin.ch/cube/mock-example/1/ob...  https://mock.ld.admin.ch/station/01   \n",
      "https://mock.ld.admin.ch/cube/mock-example/1/ob...  https://mock.ld.admin.ch/station/02   \n",
      "https://mock.ld.admin.ch/cube/mock-example/1/ob...  https://mock.ld.admin.ch/station/01   \n",
      "https://mock.ld.admin.ch/cube/mock-example/1/ob...  https://mock.ld.admin.ch/station/02   \n",
      "https://mock.ld.admin.ch/cube/mock-example/1/ob...  https://mock.ld.admin.ch/station/01   \n",
      "\n",
      "                                                         Wert  Standardfehler  \\\n",
      "obs-uri                                                                         \n",
      "https://mock.ld.admin.ch/cube/mock-example/1/ob...  23.000000        5.000000   \n",
      "https://mock.ld.admin.ch/cube/mock-example/1/ob...  23.555744        7.517864   \n",
      "https://mock.ld.admin.ch/cube/mock-example/1/ob...  21.536091        6.466525   \n",
      "https://mock.ld.admin.ch/cube/mock-example/1/ob...  21.659924        6.030296   \n",
      "https://mock.ld.admin.ch/cube/mock-example/1/ob...  22.575145        1.493504   \n",
      "\n",
      "                                                       Status  \n",
      "obs-uri                                                        \n",
      "https://mock.ld.admin.ch/cube/mock-example/1/ob...  definitiv  \n",
      "https://mock.ld.admin.ch/cube/mock-example/1/ob...  definitiv  \n",
      "https://mock.ld.admin.ch/cube/mock-example/1/ob...  definitiv  \n",
      "https://mock.ld.admin.ch/cube/mock-example/1/ob...  definitiv  \n",
      "https://mock.ld.admin.ch/cube/mock-example/1/ob...  definitiv  \n",
      "Number of triples in Graph: 33\n"
     ]
    }
   ],
   "source": [
    "cube.write_cube()\n",
    "print(cube)\n",
    "cube.serialize(\"example/mock-cube-cube.ttl\")"
   ]
  },
  {
   "cell_type": "markdown",
   "metadata": {},
   "source": [
    "## 4. Write Observations"
   ]
  },
  {
   "cell_type": "code",
   "execution_count": 5,
   "metadata": {},
   "outputs": [
    {
     "name": "stdout",
     "output_type": "stream",
     "text": [
      "Cube Object <https://mock.ld.admin.ch/cube/mock-example/1> with name 'Mock Cube'.\n",
      "\n",
      "                                                                                  Jahr  \\\n",
      "obs-uri                                                                                  \n",
      "https://mock.ld.admin.ch/cube/mock-example/1/ob...  https://ld.admin.ch/time/year/2000   \n",
      "https://mock.ld.admin.ch/cube/mock-example/1/ob...  https://ld.admin.ch/time/year/2000   \n",
      "https://mock.ld.admin.ch/cube/mock-example/1/ob...  https://ld.admin.ch/time/year/2001   \n",
      "https://mock.ld.admin.ch/cube/mock-example/1/ob...  https://ld.admin.ch/time/year/2001   \n",
      "https://mock.ld.admin.ch/cube/mock-example/1/ob...  https://ld.admin.ch/time/year/2002   \n",
      "\n",
      "                                                                                Station  \\\n",
      "obs-uri                                                                                   \n",
      "https://mock.ld.admin.ch/cube/mock-example/1/ob...  https://mock.ld.admin.ch/station/01   \n",
      "https://mock.ld.admin.ch/cube/mock-example/1/ob...  https://mock.ld.admin.ch/station/02   \n",
      "https://mock.ld.admin.ch/cube/mock-example/1/ob...  https://mock.ld.admin.ch/station/01   \n",
      "https://mock.ld.admin.ch/cube/mock-example/1/ob...  https://mock.ld.admin.ch/station/02   \n",
      "https://mock.ld.admin.ch/cube/mock-example/1/ob...  https://mock.ld.admin.ch/station/01   \n",
      "\n",
      "                                                         Wert  Standardfehler  \\\n",
      "obs-uri                                                                         \n",
      "https://mock.ld.admin.ch/cube/mock-example/1/ob...  23.000000        5.000000   \n",
      "https://mock.ld.admin.ch/cube/mock-example/1/ob...  23.555744        7.517864   \n",
      "https://mock.ld.admin.ch/cube/mock-example/1/ob...  21.536091        6.466525   \n",
      "https://mock.ld.admin.ch/cube/mock-example/1/ob...  21.659924        6.030296   \n",
      "https://mock.ld.admin.ch/cube/mock-example/1/ob...  22.575145        1.493504   \n",
      "\n",
      "                                                       Status  \n",
      "obs-uri                                                        \n",
      "https://mock.ld.admin.ch/cube/mock-example/1/ob...  definitiv  \n",
      "https://mock.ld.admin.ch/cube/mock-example/1/ob...  definitiv  \n",
      "https://mock.ld.admin.ch/cube/mock-example/1/ob...  definitiv  \n",
      "https://mock.ld.admin.ch/cube/mock-example/1/ob...  definitiv  \n",
      "https://mock.ld.admin.ch/cube/mock-example/1/ob...  definitiv  \n",
      "Number of triples in Graph: 402\n"
     ]
    }
   ],
   "source": [
    "cube.write_observations()\n",
    "print(cube)\n",
    "cube.serialize(\"example/mock-cube-cube-and-observations.ttl\")"
   ]
  },
  {
   "cell_type": "markdown",
   "metadata": {},
   "source": [
    "## 5. Write `cube:ObservationConstraint`"
   ]
  },
  {
   "cell_type": "code",
   "execution_count": 6,
   "metadata": {},
   "outputs": [
    {
     "name": "stdout",
     "output_type": "stream",
     "text": [
      "Cube Object <https://mock.ld.admin.ch/cube/mock-example/1> with name 'Mock Cube'.\n",
      "\n",
      "                                                                                  Jahr  \\\n",
      "obs-uri                                                                                  \n",
      "https://mock.ld.admin.ch/cube/mock-example/1/ob...  https://ld.admin.ch/time/year/2000   \n",
      "https://mock.ld.admin.ch/cube/mock-example/1/ob...  https://ld.admin.ch/time/year/2000   \n",
      "https://mock.ld.admin.ch/cube/mock-example/1/ob...  https://ld.admin.ch/time/year/2001   \n",
      "https://mock.ld.admin.ch/cube/mock-example/1/ob...  https://ld.admin.ch/time/year/2001   \n",
      "https://mock.ld.admin.ch/cube/mock-example/1/ob...  https://ld.admin.ch/time/year/2002   \n",
      "\n",
      "                                                                                Station  \\\n",
      "obs-uri                                                                                   \n",
      "https://mock.ld.admin.ch/cube/mock-example/1/ob...  https://mock.ld.admin.ch/station/01   \n",
      "https://mock.ld.admin.ch/cube/mock-example/1/ob...  https://mock.ld.admin.ch/station/02   \n",
      "https://mock.ld.admin.ch/cube/mock-example/1/ob...  https://mock.ld.admin.ch/station/01   \n",
      "https://mock.ld.admin.ch/cube/mock-example/1/ob...  https://mock.ld.admin.ch/station/02   \n",
      "https://mock.ld.admin.ch/cube/mock-example/1/ob...  https://mock.ld.admin.ch/station/01   \n",
      "\n",
      "                                                         Wert  Standardfehler  \\\n",
      "obs-uri                                                                         \n",
      "https://mock.ld.admin.ch/cube/mock-example/1/ob...  23.000000        5.000000   \n",
      "https://mock.ld.admin.ch/cube/mock-example/1/ob...  23.555744        7.517864   \n",
      "https://mock.ld.admin.ch/cube/mock-example/1/ob...  21.536091        6.466525   \n",
      "https://mock.ld.admin.ch/cube/mock-example/1/ob...  21.659924        6.030296   \n",
      "https://mock.ld.admin.ch/cube/mock-example/1/ob...  22.575145        1.493504   \n",
      "\n",
      "                                                       Status  \n",
      "obs-uri                                                        \n",
      "https://mock.ld.admin.ch/cube/mock-example/1/ob...  definitiv  \n",
      "https://mock.ld.admin.ch/cube/mock-example/1/ob...  definitiv  \n",
      "https://mock.ld.admin.ch/cube/mock-example/1/ob...  definitiv  \n",
      "https://mock.ld.admin.ch/cube/mock-example/1/ob...  definitiv  \n",
      "https://mock.ld.admin.ch/cube/mock-example/1/ob...  definitiv  \n",
      "Number of triples in Graph: 474\n"
     ]
    }
   ],
   "source": [
    "cube.write_shape()\n",
    "print(cube)\n",
    "cube.serialize(\"example/mock-cube.ttl\")"
   ]
  },
  {
   "cell_type": "markdown",
   "metadata": {},
   "source": [
    "## Upload"
   ]
  },
  {
   "cell_type": "markdown",
   "metadata": {},
   "source": [
    "For an upload, use `cube.upload(endpoint: str, named_graph: str)` with the proper `endpoint` as well as `named_graph`. \n",
    "\n",
    "A `lindas.ini` file is read for this step, containing these information as well as a password. It contains the structure:\n",
    "\n",
    "```\n",
    "[TEST]\n",
    "endpoint=https://stardog-test.cluster.ldbar.ch\n",
    "username=a-lindas-user-name\n",
    "password=something-you-don't-need-to-see;)\n",
    "```\n",
    "\n",
    "With additional information for the other environments."
   ]
  }
 ],
 "metadata": {
  "kernelspec": {
   "display_name": "cubelink",
   "language": "python",
   "name": "python3"
  },
  "language_info": {
   "codemirror_mode": {
    "name": "ipython",
    "version": 3
   },
   "file_extension": ".py",
   "mimetype": "text/x-python",
   "name": "python",
   "nbconvert_exporter": "python",
   "pygments_lexer": "ipython3",
   "version": "3.12.4"
  }
 },
 "nbformat": 4,
 "nbformat_minor": 2
}
